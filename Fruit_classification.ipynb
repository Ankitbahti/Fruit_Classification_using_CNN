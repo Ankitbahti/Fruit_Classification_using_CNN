{
 "cells": [
  {
   "cell_type": "code",
   "execution_count": 20,
   "id": "2683d059",
   "metadata": {},
   "outputs": [],
   "source": [
    "import tensorflow as tf\n",
    "from tensorflow.keras import backend, models, layers, optimizers\n",
    "import numpy as np\n",
    "from tensorflow.keras.layers import GlobalAveragePooling2D\n",
    "from tensorflow.keras.callbacks import EarlyStopping\n",
    "from tensorflow.keras.utils import plot_model\n",
    "from IPython.display import display\n",
    "from PIL import Image\n",
    "from tensorflow.keras.preprocessing.image import ImageDataGenerator\n",
    "import os, shutil\n",
    "from tensorflow.keras.models import Model\n",
    "np.random.seed(42)"
   ]
  },
  {
   "cell_type": "code",
   "execution_count": 21,
   "id": "bb9f700c",
   "metadata": {},
   "outputs": [],
   "source": [
    "base_dir = '/Users/DEVIL/Desktop/fruits-360'\n",
    "train_dir = os.path.join(base_dir, 'Training')\n",
    "test_dir =  os.path.join(base_dir, 'Test')\n",
    "validation_dir=  os.path.join(base_dir, 'Validation')"
   ]
  },
  {
   "cell_type": "code",
   "execution_count": 72,
   "id": "5d4c7b69",
   "metadata": {},
   "outputs": [],
   "source": [
    "# base_dir = '/Users/DEVIL/Desktop/fruit_new'\n",
    "# os.mkdir(base_dir)"
   ]
  },
  {
   "cell_type": "code",
   "execution_count": 73,
   "id": "e7d8340e",
   "metadata": {},
   "outputs": [],
   "source": [
    "# train_dir = os.path.join(base_dir, 'train')\n",
    "# os.mkdir(train_dir)\n",
    "\n",
    "# validation_dir = os.path.join(base_dir, 'validation')\n",
    "# os.mkdir(validation_dir)\n",
    "\n",
    "# test_dir = os.path.join(base_dir, 'test')\n",
    "# os.mkdir(test_dir)"
   ]
  },
  {
   "cell_type": "code",
   "execution_count": 74,
   "id": "c57be943",
   "metadata": {},
   "outputs": [],
   "source": [
    "# train_apple_dir = os.path.join(train_dir, 'apple')\n",
    "# os.mkdir(train_apple_dir)\n",
    "\n",
    "# train_orange_dir = os.path.join(train_dir, 'orange')\n",
    "# os.mkdir(train_orange_dir)\n",
    "\n",
    "# validation_apple_dir = os.path.join(validation_dir, 'apple')\n",
    "# os.mkdir(validation_apple_dir)\n",
    "\n",
    "# validation_orange_dir = os.path.join(validation_dir, 'orange')\n",
    "# os.mkdir(validation_orange_dir)\n",
    "\n",
    "# test_apple = os.path.join(test_dir, 'apple')\n",
    "# os.mkdir(test_apple)\n",
    "\n",
    "# test_orange = os.path.join(test_dir,'orange')\n",
    "# os.mkdir(test_orange)"
   ]
  },
  {
   "cell_type": "code",
   "execution_count": 127,
   "id": "66584cf2",
   "metadata": {},
   "outputs": [
    {
     "data": {
      "image/png": "[encoded data removed]",
      "text/plain": [
       "<PIL.JpegImagePlugin.JpegImageFile image mode=RGB size=100x100 at 0x246D412DB20>"
      ]
     },
     "execution_count": 127,
     "metadata": {},
     "output_type": "execute_result"
    }
   ],
   "source": [
    "path = '/Users/DEVIL/Desktop/fruits-360/Training/Apple Braeburn/'\n",
    "imgs = []\n",
    "for f in os.listdir(path):\n",
    "    ext = os.path.splitext(f)[1]\n",
    "    imgs.append(Image.open(os.path.join(path,f)))\n",
    "    \n",
    "    \n",
    "img = (imgs[0])\n",
    "img"
   ]
  },
  {
   "cell_type": "code",
   "execution_count": 111,
   "id": "a3a6e630",
   "metadata": {},
   "outputs": [],
   "source": [
    "model = models.Sequential()\n",
    "model.add(layers.Conv2D(32, (3,3), activation = 'relu', input_shape=(100,100,3)))\n",
    "model.add(layers.Dropout(0.5))\n",
    "model.add(layers.MaxPool2D((2,2)))\n",
    "\n",
    "model.add(layers.Flatten())\n",
    "model.add(layers.Dropout(0.5))\n",
    "model.add(layers.Dense(512, activation='relu'))\n",
    "model.add(layers.Dense(131, activation='softmax'))"
   ]
  },
  {
   "cell_type": "code",
   "execution_count": 112,
   "id": "5bf04267",
   "metadata": {},
   "outputs": [
    {
     "name": "stdout",
     "output_type": "stream",
     "text": [
      "Model: \"sequential_6\"\n",
      "_________________________________________________________________\n",
      "Layer (type)                 Output Shape              Param #   \n",
      "=================================================================\n",
      "conv2d_384 (Conv2D)          (None, 98, 98, 32)        896       \n",
      "_________________________________________________________________\n",
      "dropout_6 (Dropout)          (None, 98, 98, 32)        0         \n",
      "_________________________________________________________________\n",
      "max_pooling2d_20 (MaxPooling (None, 49, 49, 32)        0         \n",
      "_________________________________________________________________\n",
      "flatten_5 (Flatten)          (None, 76832)             0         \n",
      "_________________________________________________________________\n",
      "dropout_7 (Dropout)          (None, 76832)             0         \n",
      "_________________________________________________________________\n",
      "dense_16 (Dense)             (None, 512)               39338496  \n",
      "_________________________________________________________________\n",
      "dense_17 (Dense)             (None, 131)               67203     \n",
      "=================================================================\n",
      "Total params: 39,406,595\n",
      "Trainable params: 39,406,595\n",
      "Non-trainable params: 0\n",
      "_________________________________________________________________\n"
     ]
    }
   ],
   "source": [
    "model.summary()"
   ]
  },
  {
   "cell_type": "code",
   "execution_count": 113,
   "id": "8b6b52ac",
   "metadata": {},
   "outputs": [],
   "source": [
    "model.compile(loss='categorical_crossentropy', optimizer=optimizers.RMSprop(learning_rate=0.001), metrics=['acc'])"
   ]
  },
  {
   "cell_type": "code",
   "execution_count": 114,
   "id": "6bc48dae",
   "metadata": {},
   "outputs": [
    {
     "name": "stdout",
     "output_type": "stream",
     "text": [
      "Found 67692 images belonging to 131 classes.\n",
      "Found 22688 images belonging to 131 classes.\n"
     ]
    }
   ],
   "source": [
    "train_datagen = ImageDataGenerator(\n",
    "    rescale=1./255,\n",
    "    shear_range=0.2,\n",
    "    zoom_range=0.2,\n",
    "    horizontal_flip=True) \n",
    "\n",
    "test_datagen = ImageDataGenerator(rescale=1./255) \n",
    "train_generator = train_datagen.flow_from_directory(\n",
    "    train_dir,\n",
    "    target_size=(100, 100),\n",
    "    batch_size=20,\n",
    "    class_mode='categorical')\n",
    "test_generator = test_datagen.flow_from_directory(\n",
    "    test_dir,\n",
    "    target_size=(100, 100),\n",
    "    batch_size=20,\n",
    "    class_mode='categorical')"
   ]
  },
  {
   "cell_type": "code",
   "execution_count": 115,
   "id": "01011018",
   "metadata": {},
   "outputs": [
    {
     "name": "stdout",
     "output_type": "stream",
     "text": [
      "data batch shape: (20, 100, 100, 3)\n",
      "labels batch shape (20, 131)\n"
     ]
    }
   ],
   "source": [
    "for data_batch, labels_batch in test_generator:\n",
    "    print('data batch shape:', data_batch.shape)\n",
    "    print('labels batch shape', labels_batch.shape)\n",
    "    break"
   ]
  },
  {
   "cell_type": "code",
   "execution_count": 116,
   "id": "a16fa2b5",
   "metadata": {},
   "outputs": [
    {
     "name": "stdout",
     "output_type": "stream",
     "text": [
      "data batch shape: (20, 100, 100, 3)\n",
      "labels batch shape (20, 131)\n"
     ]
    }
   ],
   "source": [
    "for data_batch, labels_batch in train_generator:\n",
    "    print('data batch shape:', data_batch.shape)\n",
    "    print('labels batch shape', labels_batch.shape)\n",
    "    break"
   ]
  },
  {
   "cell_type": "code",
   "execution_count": 117,
   "id": "76d848df",
   "metadata": {},
   "outputs": [
    {
     "name": "stdout",
     "output_type": "stream",
     "text": [
      "Epoch 1/10\n"
     ]
    },
    {
     "name": "stderr",
     "output_type": "stream",
     "text": [
      "E:\\Anaconda\\envs\\virtual_workspace\\lib\\site-packages\\keras\\engine\\training.py:1972: UserWarning: `Model.fit_generator` is deprecated and will be removed in a future version. Please use `Model.fit`, which supports generators.\n",
      "  warnings.warn('`Model.fit_generator` is deprecated and '\n"
     ]
    },
    {
     "name": "stdout",
     "output_type": "stream",
     "text": [
      "100/100 [==============================] - 88s 873ms/step - loss: 9.9259 - acc: 0.0610 - val_loss: 3.8321 - val_acc: 0.1860\n",
      "Epoch 2/10\n",
      "100/100 [==============================] - 87s 866ms/step - loss: 2.8239 - acc: 0.2865 - val_loss: 2.4868 - val_acc: 0.3760\n",
      "Epoch 3/10\n",
      "100/100 [==============================] - 87s 867ms/step - loss: 1.7769 - acc: 0.4880 - val_loss: 1.6758 - val_acc: 0.5780\n",
      "Epoch 4/10\n",
      "100/100 [==============================] - 87s 868ms/step - loss: 1.2872 - acc: 0.6140 - val_loss: 1.2450 - val_acc: 0.6890\n",
      "Epoch 5/10\n",
      "100/100 [==============================] - 97s 968ms/step - loss: 1.0155 - acc: 0.6920 - val_loss: 1.0834 - val_acc: 0.7100\n",
      "Epoch 6/10\n",
      "100/100 [==============================] - 89s 890ms/step - loss: 0.8763 - acc: 0.7330 - val_loss: 0.9309 - val_acc: 0.7470\n",
      "Epoch 7/10\n",
      "100/100 [==============================] - 104s 1s/step - loss: 0.6890 - acc: 0.7815 - val_loss: 0.7777 - val_acc: 0.8060\n",
      "Epoch 8/10\n",
      "100/100 [==============================] - 93s 928ms/step - loss: 0.6310 - acc: 0.8040 - val_loss: 0.7582 - val_acc: 0.8200\n",
      "Epoch 9/10\n",
      "100/100 [==============================] - 94s 939ms/step - loss: 0.5604 - acc: 0.8260 - val_loss: 0.9749 - val_acc: 0.7110\n",
      "Epoch 10/10\n",
      "100/100 [==============================] - 94s 941ms/step - loss: 0.5417 - acc: 0.8455 - val_loss: 0.6540 - val_acc: 0.8210\n"
     ]
    }
   ],
   "source": [
    "history = model.fit_generator(train_generator, steps_per_epoch=100, epochs=10, validation_data=test_generator, validation_steps=50)"
   ]
  },
  {
   "cell_type": "code",
   "execution_count": 118,
   "id": "97c27a28",
   "metadata": {},
   "outputs": [
    {
     "data": {
      "image/png": "[encoded data removed]",
      "text/plain": [
       "<Figure size 432x288 with 1 Axes>"
      ]
     },
     "metadata": {
      "needs_background": "light"
     },
     "output_type": "display_data"
    },
    {
     "data": {
      "image/png": "[encoded data removed]",
      "text/plain": [
       "<Figure size 432x288 with 1 Axes>"
      ]
     },
     "metadata": {
      "needs_background": "light"
     },
     "output_type": "display_data"
    }
   ],
   "source": [
    "import matplotlib.pyplot as plt\n",
    "\n",
    "acc= history.history['acc']\n",
    "val_acc= history.history['val_acc']\n",
    "loss= history.history['loss']\n",
    "val_loss= history.history['val_loss']\n",
    "\n",
    "epochs = range(1, len(acc) + 1)\n",
    "\n",
    "plt.plot(epochs, acc, 'bo', label ='Training acc')\n",
    "plt.plot(epochs, val_acc, 'b', label ='Validation acc')\n",
    "plt.title('Training and validation accuracy')\n",
    "plt.legend()\n",
    "\n",
    "plt.figure()\n",
    "\n",
    "plt.plot(epochs, loss, 'bo', label ='Training loss')\n",
    "plt.plot(epochs, val_loss, 'b', label ='Validation loss')\n",
    "plt.title('Training and validation loss')\n",
    "plt.legend()\n",
    "\n",
    "plt.show()"
   ]
  },
  {
   "cell_type": "code",
   "execution_count": 130,
   "id": "361e8cb0",
   "metadata": {},
   "outputs": [
    {
     "name": "stdout",
     "output_type": "stream",
     "text": [
      "INFO:tensorflow:Assets written to: Fruit_classification.model\\assets\n"
     ]
    }
   ],
   "source": [
    "model.save('Fruit_classification.model')"
   ]
  },
  {
   "cell_type": "code",
   "execution_count": null,
   "id": "7fc5e811",
   "metadata": {},
   "outputs": [],
   "source": [
    "\n"
   ]
  }
 ],
 "metadata": {
  "kernelspec": {
   "display_name": "Python 3 (ipykernel)",
   "language": "python",
   "name": "python3"
  },
  "language_info": {
   "codemirror_mode": {
    "name": "ipython",
    "version": 3
   },
   "file_extension": ".py",
   "mimetype": "text/x-python",
   "name": "python",
   "nbconvert_exporter": "python",
   "pygments_lexer": "ipython3",
   "version": "3.8.11"
  }
 },
 "nbformat": 4,
 "nbformat_minor": 5
}
